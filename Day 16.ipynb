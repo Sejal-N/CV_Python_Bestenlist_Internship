{
 "cells": [
  {
   "cell_type": "markdown",
   "metadata": {},
   "source": [
    "# Day 16"
   ]
  },
  {
   "cell_type": "markdown",
   "metadata": {},
   "source": [
    "### 1) Create a lambda function that multiplies argument x with argument y."
   ]
  },
  {
   "cell_type": "code",
   "execution_count": 1,
   "metadata": {},
   "outputs": [
    {
     "name": "stdout",
     "output_type": "stream",
     "text": [
      "Product of x and y = 6\n"
     ]
    }
   ],
   "source": [
    "product = lambda x, y : x * y\n",
    "\n",
    "print(\"Product of x and y =\",product(2, 3))"
   ]
  },
  {
   "cell_type": "markdown",
   "metadata": {},
   "source": [
    "### 2) Write a Python program to create Fibonacci series to n using Lambda."
   ]
  },
  {
   "cell_type": "code",
   "execution_count": 4,
   "metadata": {},
   "outputs": [
    {
     "name": "stdout",
     "output_type": "stream",
     "text": [
      "How many terms :10\n",
      "Fibonacc i series upto 10 is : [0, 1, 1, 2, 3, 5, 8, 13, 21, 34]\n"
     ]
    }
   ],
   "source": [
    "from functools import reduce\n",
    " \n",
    "fib_series = lambda n: reduce(lambda x, _: x+[x[-1]+x[-2]],\n",
    "                                range(n-2), [0, 1])\n",
    "n = int(input(\"How many terms :\"))\n",
    "print(\"Fibonacc i series upto\",n,\"is :\",fib_series(n))"
   ]
  },
  {
   "cell_type": "markdown",
   "metadata": {},
   "source": [
    "###  3) Write a Python program that multiply each number of given list with a given number."
   ]
  },
  {
   "cell_type": "code",
   "execution_count": 5,
   "metadata": {},
   "outputs": [
    {
     "name": "stdout",
     "output_type": "stream",
     "text": [
      "List = [5, 10, 15, 20, 25]\n",
      "Enter the number = 5\n",
      "List multiplied by 5 = [25, 50, 75, 100, 125]\n"
     ]
    }
   ],
   "source": [
    "list1=[5,10,15,20,25]\n",
    "print(\"List =\",list1)\n",
    "n = int(input(\"Enter the number = \"))\n",
    "multiplied_list = list(map(lambda x: x*n,list1))\n",
    "print(\"List multiplied by\",n,\"=\",multiplied_list)"
   ]
  },
  {
   "cell_type": "markdown",
   "metadata": {},
   "source": [
    "###  4) Write a Python program to find numbers divisible by 9 from a list of numbers."
   ]
  },
  {
   "cell_type": "code",
   "execution_count": 6,
   "metadata": {},
   "outputs": [
    {
     "name": "stdout",
     "output_type": "stream",
     "text": [
      "List = [12, 18, 65, 54, 39, 81, 339, 221]\n",
      "Numbers divisible by 9 are [18, 54, 81]\n"
     ]
    }
   ],
   "source": [
    "my_list = [12, 18, 65, 54, 39, 81, 339, 221,]\n",
    "print(\"List =\",my_list)\n",
    "result = list(filter(lambda x: (x % 9 == 0), my_list))\n",
    "print(\"Numbers divisible by 9 are\",result)"
   ]
  },
  {
   "cell_type": "markdown",
   "metadata": {},
   "source": [
    "###  5) Write a Python program to count the even numbers in a given list of integers."
   ]
  },
  {
   "cell_type": "code",
   "execution_count": 7,
   "metadata": {},
   "outputs": [
    {
     "name": "stdout",
     "output_type": "stream",
     "text": [
      "Given list : [1, 2, 5, 8, 10, 14, 13, 19, 56, 67, 107]\n",
      "Even numbers in given list : [2, 8, 10, 14, 56]\n",
      "Even count in the given list : 5\n"
     ]
    }
   ],
   "source": [
    "mylist = [1,2,5,8,10,14,13,19,56,67,107]\n",
    "print(\"Given list :\",mylist)\n",
    "result = list(filter(lambda x: (x % 2 == 0),mylist))\n",
    "print(\"Even numbers in given list :\",result)\n",
    "print(\"Even count in the given list :\",len(result))"
   ]
  },
  {
   "cell_type": "code",
   "execution_count": null,
   "metadata": {},
   "outputs": [],
   "source": []
  }
 ],
 "metadata": {
  "kernelspec": {
   "display_name": "Python 3",
   "language": "python",
   "name": "python3"
  },
  "language_info": {
   "codemirror_mode": {
    "name": "ipython",
    "version": 3
   },
   "file_extension": ".py",
   "mimetype": "text/x-python",
   "name": "python",
   "nbconvert_exporter": "python",
   "pygments_lexer": "ipython3",
   "version": "3.8.5"
  }
 },
 "nbformat": 4,
 "nbformat_minor": 4
}
