{
 "cells": [
  {
   "cell_type": "markdown",
   "metadata": {},
   "source": [
    "\n",
    "# Day 17"
   ]
  },
  {
   "cell_type": "markdown",
   "metadata": {},
   "source": [
    "### 1)  Create a connection for DB and print the version using a python program."
   ]
  },
  {
   "cell_type": "code",
   "execution_count": 1,
   "metadata": {},
   "outputs": [
    {
     "name": "stdout",
     "output_type": "stream",
     "text": [
      "Database version : 8.0.25\n"
     ]
    }
   ],
   "source": [
    "import mysql.connector\n",
    "mydb = mysql.connector.connect(\n",
    "    host=\"localhost\", \n",
    "    user=\"root\",\n",
    "    password=\"Sejal@123\",\n",
    "    database=\"mydatabase\"\n",
    ")\n",
    "\n",
    "db = mydb.cursor()\n",
    "db.execute(\"SELECT VERSION()\")\n",
    "data = db.fetchone()\n",
    "print(\"Database version : %s\"% data)"
   ]
  },
  {
   "cell_type": "markdown",
   "metadata": {},
   "source": [
    "### 2)  Create a multiple tables & insert data in table."
   ]
  },
  {
   "cell_type": "code",
   "execution_count": 9,
   "metadata": {},
   "outputs": [],
   "source": [
    "import mysql.connector\n",
    "mydb = mysql.connector.connect(\n",
    "    host=\"localhost\", \n",
    "    user=\"root\",\n",
    "    password=\"Sejal@123\",\n",
    "    database=\"mydatabase\"\n",
    ")\n",
    "dbse = mydb.cursor()\n",
    "dbse.execute(\"CREATE TABLE customers (Customer_name VARCHAR(255), Order_name VARCHAR(255))\")"
   ]
  },
  {
   "cell_type": "code",
   "execution_count": 21,
   "metadata": {},
   "outputs": [
    {
     "name": "stdout",
     "output_type": "stream",
     "text": [
      "1 record inserted.\n"
     ]
    }
   ],
   "source": [
    "import mysql.connector\n",
    "mydb = mysql.connector.connect(\n",
    "    host=\"localhost\", \n",
    "    user=\"root\",\n",
    "    password=\"Sejal@123\",\n",
    "    database=\"mydatabase\"\n",
    ")\n",
    "my = mydb.cursor()\n",
    "sql = \"INSERT INTO customers (Customer_name, Order_name) VALUES (%s,%s)\" \n",
    "val = (\"Ram\", \"Pant\")\n",
    "my.execute(sql, val)\n",
    "mydb.commit() \n",
    "print(my.rowcount, \"record inserted.\")"
   ]
  },
  {
   "cell_type": "code",
   "execution_count": 22,
   "metadata": {},
   "outputs": [
    {
     "name": "stdout",
     "output_type": "stream",
     "text": [
      "1 record inserted.\n"
     ]
    }
   ],
   "source": [
    "my = mydb.cursor()\n",
    "sql = \"INSERT INTO customers (Customer_name, Order_name) VALUES (%s,%s)\" \n",
    "val = (\"Roy\", \"T-shirt\")\n",
    "my.execute(sql, val)\n",
    "mydb.commit() \n",
    "print(my.rowcount, \"record inserted.\")"
   ]
  },
  {
   "cell_type": "markdown",
   "metadata": {},
   "source": [
    "### 3)  Create a employee table and read all the employee name in the table using for loop."
   ]
  },
  {
   "cell_type": "code",
   "execution_count": 29,
   "metadata": {},
   "outputs": [
    {
     "name": "stdout",
     "output_type": "stream",
     "text": [
      "4 record inserted.\n"
     ]
    }
   ],
   "source": [
    "import mysql.connector\n",
    "mydb = mysql.connector.connect(\n",
    "    host=\"localhost\", \n",
    "    user=\"root\",\n",
    "    password=\"Sejal@123\",\n",
    "    database=\"mydatabase\"\n",
    ")\n",
    "dbse = mydb.cursor()\n",
    "dbse.execute(\"CREATE TABLE employee (Employee_name VARCHAR(255), Employee_address VARCHAR(255))\")\n",
    "my = mydb.cursor()\n",
    "sql = \"INSERT INTO employee (Employee_name, Employee_address) VALUES (%s,%s)\" \n",
    "val =[ (\"Raj\", \"Mumbai\"),\n",
    "      (\"Sai\", \"Delhi\"),\n",
    "      (\"Soniya\", \"Mumbai\"),\n",
    "      (\"Parth\",\"Nagpur\")\n",
    "     ]\n",
    "my.executemany(sql, val)\n",
    "mydb.commit() \n",
    "print(my.rowcount, \"record inserted.\")\n",
    "\n"
   ]
  },
  {
   "cell_type": "code",
   "execution_count": 30,
   "metadata": {},
   "outputs": [
    {
     "name": "stdout",
     "output_type": "stream",
     "text": [
      "('Raj',)\n",
      "('Sai',)\n",
      "('Soniya',)\n",
      "('Parth',)\n"
     ]
    }
   ],
   "source": [
    "db = mydb.cursor()\n",
    "db.execute(\"SELECT employee_name FROM employee\")\n",
    "myresult = db.fetchall()\n",
    "for x in myresult:\n",
    "    print(x)"
   ]
  }
 ],
 "metadata": {
  "kernelspec": {
   "display_name": "Python 3",
   "language": "python",
   "name": "python3"
  },
  "language_info": {
   "codemirror_mode": {
    "name": "ipython",
    "version": 3
   },
   "file_extension": ".py",
   "mimetype": "text/x-python",
   "name": "python",
   "nbconvert_exporter": "python",
   "pygments_lexer": "ipython3",
   "version": "3.8.5"
  }
 },
 "nbformat": 4,
 "nbformat_minor": 4
}
