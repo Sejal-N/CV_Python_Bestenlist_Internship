{
 "cells": [
  {
   "cell_type": "markdown",
   "metadata": {},
   "source": [
    "# Day 19 "
   ]
  },
  {
   "cell_type": "markdown",
   "metadata": {},
   "source": [
    "###  Create an Excel with data of Student database and add all the values which is required for student management database, Read the excel file and add the datas into a DB (using script)"
   ]
  },
  {
   "cell_type": "code",
   "execution_count": 1,
   "metadata": {},
   "outputs": [],
   "source": [
    "import openpyxl"
   ]
  },
  {
   "cell_type": "code",
   "execution_count": 2,
   "metadata": {},
   "outputs": [
    {
     "name": "stdout",
     "output_type": "stream",
     "text": [
      "Rani\n"
     ]
    }
   ],
   "source": [
    "path = \"Student.xlsx\"\n",
    "wb_obj = openpyxl.load_workbook(path)\n",
    "sheet_obj = wb_obj.active\n",
    "cell_obj = sheet_obj.cell(row = 3, column = 2)\n",
    "print(cell_obj.value)"
   ]
  },
  {
   "cell_type": "code",
   "execution_count": 3,
   "metadata": {},
   "outputs": [
    {
     "name": "stdout",
     "output_type": "stream",
     "text": [
      "2\n",
      "Rani\n",
      "Mech\n",
      "8.5\n",
      "8.9\n",
      "7.7\n",
      "8.4\n",
      "Rani@gmail.com\n"
     ]
    }
   ],
   "source": [
    "for i in range(1,9):\n",
    "    cell_obj = sheet_obj.cell(row = 3, column = i)\n",
    "    print(cell_obj.value)"
   ]
  },
  {
   "cell_type": "code",
   "execution_count": 4,
   "metadata": {},
   "outputs": [
    {
     "name": "stdout",
     "output_type": "stream",
     "text": [
      "<mysql.connector.connection.MySQLConnection object at 0x000002A25A9B2460>\n"
     ]
    }
   ],
   "source": [
    "import mysql.connector\n",
    "\n",
    "mydb = mysql.connector.connect(\n",
    "  host=\"localhost\",\n",
    " user=\"root\",\n",
    "  password=\"Sejal@123\",\n",
    ")\n",
    "\n",
    "mycursor = mydb.cursor()\n",
    "print(mydb)"
   ]
  },
  {
   "cell_type": "code",
   "execution_count": 5,
   "metadata": {},
   "outputs": [],
   "source": [
    "dbse = mydb.cursor()\n",
    "\n",
    "dbse.execute(\"CREATE DATABASE Students_Management_System\")"
   ]
  },
  {
   "cell_type": "code",
   "execution_count": 7,
   "metadata": {},
   "outputs": [],
   "source": [
    "mydb = mysql.connector.connect(\n",
    "  host=\"localhost\",\n",
    " user=\"root\",\n",
    "  password=\"Sejal@123\",\n",
    "  database=\"Students_Management_System\"\n",
    ")\n",
    "dbse = mydb.cursor()\n",
    "\n",
    "dbse.execute(\"CREATE TABLE student3 (Roll_no INT(10),NAME VARCHAR(255),Branch VARCHAR(255), Semester1 INT(25),Semester2 INT(25),Semester3 INT(25),Semester4 INT(25) ,Email VARCHAR(255))\")"
   ]
  },
  {
   "cell_type": "code",
   "execution_count": 8,
   "metadata": {},
   "outputs": [
    {
     "name": "stdout",
     "output_type": "stream",
     "text": [
      "('student3',)\n"
     ]
    }
   ],
   "source": [
    "dbse = mydb.cursor()\n",
    "\n",
    "dbse.execute(\"SHOW TABLES\")\n",
    "\n",
    "for value in dbse:\n",
    "    print(value)"
   ]
  },
  {
   "cell_type": "code",
   "execution_count": 9,
   "metadata": {},
   "outputs": [],
   "source": [
    "cur= mydb.cursor()\n",
    "cur.execute(\"SELECT * FROM student3\")\n",
    "for row in cur:\n",
    "    print(row)"
   ]
  },
  {
   "cell_type": "code",
   "execution_count": 10,
   "metadata": {},
   "outputs": [],
   "source": [
    "import pandas as pd\n",
    "\n",
    "df = pd.read_excel('Student.xlsx')"
   ]
  },
  {
   "cell_type": "code",
   "execution_count": 11,
   "metadata": {},
   "outputs": [],
   "source": [
    "import xlrd\n",
    "import MySQLdb"
   ]
  },
  {
   "cell_type": "code",
   "execution_count": 12,
   "metadata": {},
   "outputs": [
    {
     "data": {
      "text/plain": [
       "<xlrd.book.Book at 0x2a25ab18580>"
      ]
     },
     "execution_count": 12,
     "metadata": {},
     "output_type": "execute_result"
    }
   ],
   "source": [
    "xl_sheet = xlrd.open_workbook(\"Student.xlsx\")\n",
    "xl_sheet"
   ]
  },
  {
   "cell_type": "code",
   "execution_count": 13,
   "metadata": {},
   "outputs": [
    {
     "data": {
      "text/plain": [
       "['Sheet1', 'Sheet2', 'Sheet3']"
      ]
     },
     "execution_count": 13,
     "metadata": {},
     "output_type": "execute_result"
    }
   ],
   "source": [
    "sheet_name = xl_sheet.sheet_names()\n",
    "sheet_name"
   ]
  },
  {
   "cell_type": "code",
   "execution_count": 14,
   "metadata": {},
   "outputs": [],
   "source": [
    "mydb = mysql.connector.connect(\n",
    "  host=\"localhost\",\n",
    " user=\"root\",\n",
    "  password=\"Sejal@123\",\n",
    "  database=\"students_management_system\"\n",
    ")\n",
    "\n",
    "cur = mydb.cursor()\n",
    "for s in range(0,1):\n",
    "    sheet=xl_sheet.sheet_by_index(s)\n",
    "    sql= \"INSERT INTO student3(Roll_no,NAME,Branch,Semester1, Semester2 , Semester3, Semester4, Email) VALUES(%s,%s,%s,%s,%s,%s,%s,%s)\"\n",
    "    for r in range(1,sheet.nrows):\n",
    "        Roll_no =sheet.cell(r,0).value\n",
    "        NAME =sheet.cell(r,1).value\n",
    "        Branch =sheet.cell(r,2).value\n",
    "        Semester1 =sheet.cell(r,3).value\n",
    "        Semester2 =sheet.cell(r,4).value\n",
    "        Semester3 =sheet.cell(r,5).value\n",
    "        Semester4 =sheet.cell(r,6).value\n",
    "        Email=sheet.cell(r,7).value\n",
    "        values =(Roll_no ,NAME,Branch ,Semester1,Semester2 ,Semester3,Semester4 ,Email)\n",
    "        \n",
    "        cur.execute(sql,values)\n",
    "mydb.commit()"
   ]
  },
  {
   "cell_type": "code",
   "execution_count": 15,
   "metadata": {},
   "outputs": [
    {
     "name": "stdout",
     "output_type": "stream",
     "text": [
      "(1, 'Sonal', 'CSE', 9, 7, 8, 9, 'Sonal@gmail.com')\n",
      "(2, 'Rani', 'Mech', 9, 9, 8, 8, 'Rani@gmail.com')\n",
      "(3, 'Simran', 'EE', 7, 7, 7, 7, 'simran@gmail.com')\n",
      "(4, 'Preeti', 'EE', 8, 8, 9, 9, 'preeti@gmail.com')\n",
      "(5, 'Vikranti', 'ETC', 8, 6, 8, 9, 'vikranti@gmail.com')\n",
      "(6, 'Roy', 'CSE', 7, 9, 7, 9, 'roy@gmail.com')\n",
      "(7, 'Girish', 'Mech', 9, 8, 9, 7, 'girish@gmail.com')\n",
      "(8, 'Raj', 'ETC', 8, 8, 7, 8, 'raj@gmail.com')\n",
      "(9, 'Prathmesh', 'Mech', 9, 9, 10, 9, 'prathmesh@gmail.com')\n",
      "(10, 'Ravish', 'CSE', 9, 9, 9, 8, 'ravish@gmail.com')\n"
     ]
    }
   ],
   "source": [
    "mycursor = mydb.cursor()\n",
    "\n",
    "mycursor.execute(\"SELECT * FROM student3\")\n",
    "\n",
    "myresult = mycursor.fetchall()\n",
    "\n",
    "for x in myresult:\n",
    "    print(x)"
   ]
  },
  {
   "cell_type": "code",
   "execution_count": 17,
   "metadata": {},
   "outputs": [
    {
     "name": "stdout",
     "output_type": "stream",
     "text": [
      "('Rani',)\n",
      "('Girish',)\n",
      "('Prathmesh',)\n"
     ]
    }
   ],
   "source": [
    "mycursor = mydb.cursor()\n",
    "\n",
    "sql =\"SELECT NAME FROM student3 WHERE Branch = 'Mech'\"\n",
    "mycursor.execute(sql)\n",
    "myresult = mycursor.fetchall()\n",
    "\n",
    "for x in myresult:\n",
    "    print(x)"
   ]
  },
  {
   "cell_type": "code",
   "execution_count": null,
   "metadata": {},
   "outputs": [],
   "source": []
  }
 ],
 "metadata": {
  "kernelspec": {
   "display_name": "Python 3",
   "language": "python",
   "name": "python3"
  },
  "language_info": {
   "codemirror_mode": {
    "name": "ipython",
    "version": 3
   },
   "file_extension": ".py",
   "mimetype": "text/x-python",
   "name": "python",
   "nbconvert_exporter": "python",
   "pygments_lexer": "ipython3",
   "version": "3.8.5"
  }
 },
 "nbformat": 4,
 "nbformat_minor": 4
}
