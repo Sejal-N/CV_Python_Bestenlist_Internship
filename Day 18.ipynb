{
 "cells": [
  {
   "cell_type": "markdown",
   "metadata": {},
   "source": [
    "# Day 18"
   ]
  },
  {
   "cell_type": "markdown",
   "metadata": {},
   "source": [
    "### 1) Create a DB with doctor and doctor ID & patients visited."
   ]
  },
  {
   "cell_type": "code",
   "execution_count": 6,
   "metadata": {},
   "outputs": [],
   "source": [
    "import mysql.connector\n",
    "mydb = mysql.connector.connect(\n",
    "        host =\"localhost\",\n",
    "        username=\"root\",\n",
    "        password=\"Sejal@123\",\n",
    "        database=\"mydatabase\"\n",
    ")\n",
    "db = mydb.cursor()\n",
    "db.execute(\"CREATE TABLE hospital (Doctor_name VARCHAR(225), Doctor_ID INT, Patients_visited INT)\")"
   ]
  },
  {
   "cell_type": "code",
   "execution_count": 12,
   "metadata": {},
   "outputs": [
    {
     "name": "stdout",
     "output_type": "stream",
     "text": [
      "10 was inserted.\n"
     ]
    }
   ],
   "source": [
    "my = mydb.cursor()\n",
    "sql = \"INSERT INTO hospital (Doctor_name, Doctor_ID, Patients_visited) VALUES (%s, %s, %s)\"\n",
    "val = [(\"Dr.Harsh\", \"1001\", \"7\"),\n",
    "       (\"Dr.Nidhi\", \"1002\", \"3\"),\n",
    "       (\"Dr.Prathmesh\", \"1003\", \"8\"),\n",
    "       (\"Dr.Sidhi\", \"1004\", \"2\"),\n",
    "       (\"Dr.Niraj\", \"1005\", \"6\"),\n",
    "       (\"Dr.Ravish\", \"1006\", \"4\"),\n",
    "       (\"Dr.Rahul\", \"1007\", \"0\"),\n",
    "       (\"Dr.Tanu\", \"1008\", \"9\"),\n",
    "       (\"Dr.Guri\", \"1009\", \"3\"),\n",
    "       (\"Dr.Roy\",\"1010\", \"1\")\n",
    "      ]\n",
    "my.executemany(sql, val)\n",
    "\n",
    "mydb.commit()\n",
    "print(my.rowcount, \"was inserted.\")"
   ]
  },
  {
   "cell_type": "code",
   "execution_count": 15,
   "metadata": {},
   "outputs": [
    {
     "name": "stdout",
     "output_type": "stream",
     "text": [
      "('Dr.Harsh', 1001, 7)\n",
      "('Dr.Nidhi', 1002, 3)\n",
      "('Dr.Prathmesh', 1003, 8)\n",
      "('Dr.Sidhi', 1004, 2)\n",
      "('Dr.Niraj', 1005, 6)\n",
      "('Dr.Ravish', 1006, 4)\n",
      "('Dr.Rahul', 1007, 0)\n",
      "('Dr.Tanu', 1008, 9)\n",
      "('Dr.Guri', 1009, 3)\n",
      "('Dr.Roy', 1010, 1)\n"
     ]
    }
   ],
   "source": [
    "mycursor = mydb.cursor() \n",
    "mycursor.execute(\"SELECT * FROM hospital\") \n",
    "myresult = mycursor.fetchall()\n",
    "for x in myresult:\n",
    "    print(x)"
   ]
  },
  {
   "cell_type": "markdown",
   "metadata": {},
   "source": [
    "### 2)  Get the doctor(s) who have more than 5 patients visited."
   ]
  },
  {
   "cell_type": "code",
   "execution_count": 17,
   "metadata": {},
   "outputs": [
    {
     "name": "stdout",
     "output_type": "stream",
     "text": [
      "('Dr.Harsh', 1001, 7)\n",
      "('Dr.Prathmesh', 1003, 8)\n",
      "('Dr.Niraj', 1005, 6)\n",
      "('Dr.Tanu', 1008, 9)\n"
     ]
    }
   ],
   "source": [
    "mycursor = mydb.cursor()\n",
    "sql = \"SELECT * FROM hospital WHERE Patients_visited >'5'\"\n",
    "mycursor.execute(sql)\n",
    "myresult = mycursor.fetchall()\n",
    "for x in myresult:\n",
    "    print(x)"
   ]
  },
  {
   "cell_type": "markdown",
   "metadata": {},
   "source": [
    "### 3)  Get the doctors with no patients visit."
   ]
  },
  {
   "cell_type": "code",
   "execution_count": 18,
   "metadata": {},
   "outputs": [
    {
     "name": "stdout",
     "output_type": "stream",
     "text": [
      "('Dr.Rahul', 1007, 0)\n"
     ]
    }
   ],
   "source": [
    "mycursor = mydb.cursor()\n",
    "sql = \"SELECT * FROM hospital WHERE Patients_visited ='0'\"\n",
    "mycursor.execute(sql)\n",
    "myresult = mycursor.fetchall()\n",
    "for x in myresult:\n",
    "    print(x)"
   ]
  }
 ],
 "metadata": {
  "kernelspec": {
   "display_name": "Python 3",
   "language": "python",
   "name": "python3"
  },
  "language_info": {
   "codemirror_mode": {
    "name": "ipython",
    "version": 3
   },
   "file_extension": ".py",
   "mimetype": "text/x-python",
   "name": "python",
   "nbconvert_exporter": "python",
   "pygments_lexer": "ipython3",
   "version": "3.8.5"
  }
 },
 "nbformat": 4,
 "nbformat_minor": 4
}
