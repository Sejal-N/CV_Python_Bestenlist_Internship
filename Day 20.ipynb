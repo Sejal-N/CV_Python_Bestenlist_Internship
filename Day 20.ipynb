{
 "cells": [
  {
   "cell_type": "markdown",
   "metadata": {},
   "source": [
    "# Day 20 "
   ]
  },
  {
   "cell_type": "markdown",
   "metadata": {},
   "source": [
    "### • Create an Employee Table with employee name,employee ID & Salary.\n",
    "   \n",
    "   \n",
    "  "
   ]
  },
  {
   "cell_type": "code",
   "execution_count": 1,
   "metadata": {},
   "outputs": [],
   "source": [
    "import mysql.connector\n",
    "mydb = mysql.connector.connect(\n",
    "    host = \"localhost\",\n",
    "    user = \"root\",\n",
    "    password = \"Sejal@123\"\n",
    "    )\n",
    "db = mydb.cursor()\n",
    "db.execute(\"CREATE DATABASE Employee_Management_System\")"
   ]
  },
  {
   "cell_type": "code",
   "execution_count": 3,
   "metadata": {},
   "outputs": [],
   "source": [
    "import mysql.connector\n",
    "mydb = mysql.connector.connect(\n",
    "    host = \"localhost\",\n",
    "    user = \"root\",\n",
    "    password = \"Sejal@123\",\n",
    "    database = \"Employee_Management_System\"\n",
    "    )\n",
    "db = mydb.cursor()\n",
    "db.execute(\"CREATE TABLE Employee (Employee_name VARCHAR(255), Employee_id INT(10), Employee_salary INT(10))\")"
   ]
  },
  {
   "cell_type": "code",
   "execution_count": 4,
   "metadata": {},
   "outputs": [
    {
     "name": "stdout",
     "output_type": "stream",
     "text": [
      "10 record inserted.\n"
     ]
    }
   ],
   "source": [
    "db = mydb.cursor()\n",
    "sql = \"INSERT INTO Employee (Employee_name, Employee_id, Employee_salary) VALUES (%s,%s,%s)\"\n",
    "val = [(\"Roy\", 101, 40000),\n",
    "       (\"Sonal\", 102,30000),\n",
    "       (\"Raj\", 103, 40000),\n",
    "       (\"Girish\", 104, 50000),\n",
    "       (\"Prathmesh\", 105, 60000),\n",
    "       (\"Saniya\", 106, 45000),\n",
    "       (\"Abhi\", 107, 35000),\n",
    "       (\"Guri\", 108, 30000),\n",
    "       (\"Lura\", 109, 55000),\n",
    "       (\"Zoy\", 110, 50000)]\n",
    "db.executemany(sql,val)\n",
    "mydb.commit() \n",
    "print(db.rowcount, \"record inserted.\")"
   ]
  },
  {
   "cell_type": "code",
   "execution_count": 5,
   "metadata": {},
   "outputs": [
    {
     "name": "stdout",
     "output_type": "stream",
     "text": [
      "('Roy', 101, 40000)\n",
      "('Sonal', 102, 30000)\n",
      "('Raj', 103, 40000)\n",
      "('Girish', 104, 50000)\n",
      "('Prathmesh', 105, 60000)\n",
      "('Saniya', 106, 45000)\n",
      "('Abhi', 107, 35000)\n",
      "('Guri', 108, 30000)\n",
      "('Lura', 109, 55000)\n",
      "('Zoy', 110, 50000)\n"
     ]
    }
   ],
   "source": [
    "db = mydb.cursor()\n",
    "db.execute(\"SELECT * FROM Employee\")\n",
    "myresult = db.fetchall()\n",
    "for x in myresult:\n",
    "    print(x)"
   ]
  },
  {
   "cell_type": "markdown",
   "metadata": {},
   "source": [
    "### a. Write a query to get the maximum and minimum salary from employees table."
   ]
  },
  {
   "cell_type": "code",
   "execution_count": 13,
   "metadata": {},
   "outputs": [
    {
     "name": "stdout",
     "output_type": "stream",
     "text": [
      "('Prathmesh', 105, 60000)\n"
     ]
    }
   ],
   "source": [
    "db = mydb.cursor()\n",
    "db.execute(\"SELECT  Employee_name, Employee_id, Employee_salary FROM Employee WHERE Employee_salary = (SELECT MAX(Employee_salary) FROM Employee)\")\n",
    "myresult = db.fetchall()\n",
    "for x in myresult:\n",
    "    print(x)"
   ]
  },
  {
   "cell_type": "code",
   "execution_count": 14,
   "metadata": {},
   "outputs": [
    {
     "name": "stdout",
     "output_type": "stream",
     "text": [
      "('Sonal', 102, 30000)\n",
      "('Guri', 108, 30000)\n"
     ]
    }
   ],
   "source": [
    "db = mydb.cursor()\n",
    "db.execute(\"SELECT  Employee_name, Employee_id, Employee_salary FROM Employee WHERE Employee_salary = (SELECT MIN(Employee_salary) FROM employee)\")\n",
    "myresult = db.fetchall()\n",
    "for x in myresult:\n",
    "    print(x)"
   ]
  },
  {
   "cell_type": "markdown",
   "metadata": {},
   "source": [
    "  ### b. Write a query to get the number of employees working with the company"
   ]
  },
  {
   "cell_type": "code",
   "execution_count": 21,
   "metadata": {},
   "outputs": [
    {
     "name": "stdout",
     "output_type": "stream",
     "text": [
      "(10,)  employees working with the company\n"
     ]
    }
   ],
   "source": [
    "import mysql.connector\n",
    "mydb = mysql.connector.connect(\n",
    "    host = \"localhost\",\n",
    "    user = \"root\",\n",
    "    password = \"Sejal@123\",\n",
    "    database = \"Employee_Management_System\"\n",
    "    )\n",
    "db = mydb.cursor()\n",
    "sql = \"SELECT COUNT(*) FROM employee\"\n",
    "db.execute(sql)\n",
    "myresult = db.fetchall()\n",
    "for x in myresult:\n",
    "    print(x,\" employees working with the company\")"
   ]
  },
  {
   "cell_type": "markdown",
   "metadata": {},
   "source": [
    " ### c. Write a query to get the first 3 characters of first name from employees table"
   ]
  },
  {
   "cell_type": "code",
   "execution_count": 24,
   "metadata": {},
   "outputs": [
    {
     "name": "stdout",
     "output_type": "stream",
     "text": [
      "('Roy',)\n",
      "('Son',)\n",
      "('Raj',)\n",
      "('Gir',)\n",
      "('Pra',)\n",
      "('San',)\n",
      "('Abh',)\n",
      "('Gur',)\n",
      "('Lur',)\n",
      "('Zoy',)\n"
     ]
    }
   ],
   "source": [
    "import mysql.connector\n",
    "mydb = mysql.connector.connect(\n",
    "    host = \"localhost\",\n",
    "    user = \"root\",\n",
    "    password = \"Sejal@123\",\n",
    "    database = \"Employee_Management_System\"\n",
    "    )\n",
    "db = mydb.cursor()\n",
    "db.execute(\"SELECT SUBSTRING(Employee_name,1,3) FROM employee\")\n",
    "myresult = db.fetchall()\n",
    "for x in myresult:\n",
    "    print(x)"
   ]
  },
  {
   "cell_type": "code",
   "execution_count": null,
   "metadata": {},
   "outputs": [],
   "source": []
  }
 ],
 "metadata": {
  "kernelspec": {
   "display_name": "Python 3",
   "language": "python",
   "name": "python3"
  },
  "language_info": {
   "codemirror_mode": {
    "name": "ipython",
    "version": 3
   },
   "file_extension": ".py",
   "mimetype": "text/x-python",
   "name": "python",
   "nbconvert_exporter": "python",
   "pygments_lexer": "ipython3",
   "version": "3.8.5"
  }
 },
 "nbformat": 4,
 "nbformat_minor": 4
}
