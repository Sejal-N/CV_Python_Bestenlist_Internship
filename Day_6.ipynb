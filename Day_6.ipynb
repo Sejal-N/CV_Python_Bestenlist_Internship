{
 "cells": [
  {
   "cell_type": "markdown",
   "metadata": {},
   "source": [
    "# DAY - 6\n"
   ]
  },
  {
   "cell_type": "markdown",
   "metadata": {},
   "source": [
    "1) Write a Python script to merge two Python dictionaries"
   ]
  },
  {
   "cell_type": "code",
   "execution_count": 1,
   "metadata": {},
   "outputs": [
    {
     "name": "stdout",
     "output_type": "stream",
     "text": [
      "{'a': 400, 'b': 500}\n",
      "{'c': 200, 'd': 300}\n",
      "{'a': 400, 'b': 500, 'c': 200, 'd': 300}\n"
     ]
    }
   ],
   "source": [
    "Dict1 = {\"a\":400,\"b\":500}\n",
    "Dict2 = {\"c\":200,\"d\":300}\n",
    "print(Dict1)\n",
    "print(Dict2)\n",
    "Dict = Dict1.copy()\n",
    "Dict.update(Dict2)\n",
    "print(Dict)"
   ]
  },
  {
   "cell_type": "markdown",
   "metadata": {},
   "source": [
    "2) Write a Python program to remove a key from a dictionary"
   ]
  },
  {
   "cell_type": "code",
   "execution_count": 2,
   "metadata": {},
   "outputs": [
    {
     "name": "stdout",
     "output_type": "stream",
     "text": [
      "{'p': 1, 'q': 2, 'r': 3, 's': 4}\n",
      "{'p': 1, 'r': 3, 's': 4}\n"
     ]
    }
   ],
   "source": [
    "D1 = {\"p\":1,\"q\":2,\"r\":3,\"s\":4}\n",
    "print(D1)\n",
    "if 'q' in D1:\n",
    "    del D1['q']\n",
    "print(D1)\n"
   ]
  },
  {
   "cell_type": "markdown",
   "metadata": {},
   "source": [
    "3) Write a Python program to map two lists into a dictionary"
   ]
  },
  {
   "cell_type": "code",
   "execution_count": 3,
   "metadata": {},
   "outputs": [
    {
     "name": "stdout",
     "output_type": "stream",
     "text": [
      "{'ad': 1, 'be': 2, 'cf': 3}\n"
     ]
    }
   ],
   "source": [
    "key = ['ad','be','cf']\n",
    "value = [1,2,3]\n",
    "numbers = dict(zip(key,value))\n",
    "print(numbers)"
   ]
  },
  {
   "cell_type": "markdown",
   "metadata": {},
   "source": [
    "4) Write a Python program to find the length of a set"
   ]
  },
  {
   "cell_type": "code",
   "execution_count": 4,
   "metadata": {},
   "outputs": [
    {
     "name": "stdout",
     "output_type": "stream",
     "text": [
      "{2, 3, 9, 10, 15, 20}\n",
      "Length of the said set:\n",
      "6\n"
     ]
    }
   ],
   "source": [
    "set1 = {9, 10, 3, 15, 2, 20}\n",
    "print(set1)\n",
    "print(\"Length of the said set:\")\n",
    "print(len(set1))"
   ]
  },
  {
   "cell_type": "markdown",
   "metadata": {},
   "source": [
    "5) Write a Python program to remove the intersection of a 2nd set from the 1st set"
   ]
  },
  {
   "cell_type": "code",
   "execution_count": 5,
   "metadata": {},
   "outputs": [
    {
     "name": "stdout",
     "output_type": "stream",
     "text": [
      "{1, 2, 3, 4, 5}\n",
      "{4, 5, 6, 7, 8}\n",
      "Remove the intersection of a 2nd set from the 1st set =\n",
      "sn1:  {1, 2, 3}\n",
      "sn2:  {4, 5, 6, 7, 8}\n"
     ]
    }
   ],
   "source": [
    "sn1 = {1,2,3,4,5}\n",
    "sn2 = {4,5,6,7,8}\n",
    "print(sn1)\n",
    "print(sn2)\n",
    "print(\"Remove the intersection of a 2nd set from the 1st set =\")\n",
    "sn1.difference_update(sn2)\n",
    "print(\"sn1: \",sn1)\n",
    "print(\"sn2: \",sn2)"
   ]
  },
  {
   "cell_type": "code",
   "execution_count": null,
   "metadata": {},
   "outputs": [],
   "source": []
  }
 ],
 "metadata": {
  "kernelspec": {
   "display_name": "Python 3",
   "language": "python",
   "name": "python3"
  },
  "language_info": {
   "codemirror_mode": {
    "name": "ipython",
    "version": 3
   },
   "file_extension": ".py",
   "mimetype": "text/x-python",
   "name": "python",
   "nbconvert_exporter": "python",
   "pygments_lexer": "ipython3",
   "version": "3.8.5"
  }
 },
 "nbformat": 4,
 "nbformat_minor": 4
}
