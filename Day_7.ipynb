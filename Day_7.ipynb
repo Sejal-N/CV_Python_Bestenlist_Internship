{
 "cells": [
  {
   "cell_type": "markdown",
   "metadata": {},
   "source": [
    "# Day 7"
   ]
  },
  {
   "cell_type": "markdown",
   "metadata": {},
   "source": [
    "1. Create a function getting two integer inputs from user. & print the following: Addition of two numbers is +value\n",
    "Subtraction of two numbers is +value\n",
    "Division of two numbers is +value\n",
    "Multiplication of two numbers is +value Here the value represents math function associated"
   ]
  },
  {
   "cell_type": "code",
   "execution_count": 1,
   "metadata": {},
   "outputs": [
    {
     "name": "stdout",
     "output_type": "stream",
     "text": [
      "Enter First Number =6\n",
      "Enter Second Number =7\n",
      "First Number is = 6\n",
      "Second number is = 7\n",
      "Addition of two numbers = 13\n",
      "Subtraction of two numbers = -1\n",
      "Multiplication of two numbers = 42\n",
      "Division of two numbers = 0.8571428571428571\n"
     ]
    }
   ],
   "source": [
    "Num1 = int(input(\"Enter First Number =\"))\n",
    "Num2 = int(input(\"Enter Second Number =\"))\n",
    "print(\"First Number is =\",Num1)\n",
    "print(\"Second number is =\",Num2)\n",
    "def math(Num1,Num2):\n",
    "    print(\"Addition of two numbers =\",Num1 + Num2)\n",
    "    print(\"Subtraction of two numbers =\",Num1 - Num2)\n",
    "    print(\"Multiplication of two numbers =\",Num1 * Num2)\n",
    "    print(\"Division of two numbers =\",Num1 / Num2)\n",
    "math(Num1,Num2)\n"
   ]
  },
  {
   "cell_type": "markdown",
   "metadata": {},
   "source": [
    "2) Create a function covid() & it should accept patient name, and body temperature by default the body temperature should be 98 degree."
   ]
  },
  {
   "cell_type": "code",
   "execution_count": 2,
   "metadata": {},
   "outputs": [
    {
     "name": "stdout",
     "output_type": "stream",
     "text": [
      "Patient Name :Diksha\n",
      "Patient name : Diksha\n",
      "Patient's body temprature : 98\n"
     ]
    }
   ],
   "source": [
    "name = input(\"Patient Name :\")\n",
    "temp = 98\n",
    "def covid(name,temp):\n",
    "    print(\"Patient name :\",name)\n",
    "    print(\"Patient's body temprature :\",temp)\n",
    "covid(name,temp=98)"
   ]
  },
  {
   "cell_type": "code",
   "execution_count": null,
   "metadata": {},
   "outputs": [],
   "source": []
  }
 ],
 "metadata": {
  "kernelspec": {
   "display_name": "Python 3",
   "language": "python",
   "name": "python3"
  },
  "language_info": {
   "codemirror_mode": {
    "name": "ipython",
    "version": 3
   },
   "file_extension": ".py",
   "mimetype": "text/x-python",
   "name": "python",
   "nbconvert_exporter": "python",
   "pygments_lexer": "ipython3",
   "version": "3.8.5"
  }
 },
 "nbformat": 4,
 "nbformat_minor": 4
}
